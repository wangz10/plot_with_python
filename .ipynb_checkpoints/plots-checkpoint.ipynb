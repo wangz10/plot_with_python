{
 "cells": [
  {
   "cell_type": "code",
   "execution_count": 3,
   "metadata": {
    "collapsed": false
   },
   "outputs": [],
   "source": [
    "## import modules/packages \n",
    "import os \n",
    "import numpy as np\n",
    "import matplotlib.pyplot as plt # the basic plotting library\n",
    "\n",
    "from matplotlib import rcParams\n",
    "rcParams['pdf.fonttype'] = 42 # to make the fonts in the PDF figures editable\n",
    "rcParams['font.sans-serif'] = 'Arial' # and standard\n",
    "\n",
    "from parsers import parse_soft"
   ]
  },
  {
   "cell_type": "code",
   "execution_count": 8,
   "metadata": {
    "collapsed": false
   },
   "outputs": [],
   "source": [
    "### 0. Prepare some gene expression data to play with\n",
    "## 0.1. Get the data\n",
    "mat, genes, samples = parse_soft('GDS1001.soft')\n",
    "mat = np.log2(mat+1.) # log transform the data\n",
    "## 0.2. Peek the data\n",
    "print('shape of the matrix:', mat.shape)\n",
    "print('number of genes:', len(genes))\n",
    "print('number of samples:', len(samples))\n",
    "print(samples)\n",
    "samples = ['wt1','wt2', 'het1','het2']\n"
   ]
  },
  {
   "cell_type": "code",
   "execution_count": null,
   "metadata": {
    "collapsed": true
   },
   "outputs": [],
   "source": [
    "### 1. Plot with Matplotlib\n",
    "## 1.0. Initialize a figure\n",
    "%matplotlib inline\n",
    "fig = plt.figure(figsize=(8,8)) # the figure\n",
    "ax = fig.add_subplot(111) # the axes on the figure\n",
    "ax.plot(np.arange(10), np.arange(10))\n",
    "plt.show()"
   ]
  },
  {
   "cell_type": "code",
   "execution_count": 6,
   "metadata": {
    "collapsed": false
   },
   "outputs": [
    {
     "name": "stdout",
     "output_type": "stream",
     "text": [
      "\f",
      "\n"
     ]
    }
   ],
   "source": [
    "fig = plt.figure(figsize=(16,8)) # the figure \n",
    "ax1 = fig.add_subplot(121) # figure with two axes\n",
    "ax2 = fig.add_subplot(122)\n",
    "\n",
    "# 1.1. scatter plot \n",
    "ax1.scatter(mat[:,0], mat[:, 1], color='b', alpha=0.5) # gene expression between wt1 and wt2\n",
    "ax2.scatter(mat[:,0], mat[:, 2], color='r', alpha=0.5) # gene expression between wt1 and het1\n",
    "\n",
    "ax1.set_xlabel(samples[0], fontsize=16) # add labels\n",
    "ax1.set_ylabel(samples[1], fontsize=16)\n",
    "\n",
    "ax2.set_xlabel(samples[0], fontsize=16)\n",
    "ax2.set_ylabel(samples[2], fontsize=16)\n",
    "\n",
    "ax1.set_title('I am a title', fontsize=20)\n",
    "plt.show()"
   ]
  },
  {
   "cell_type": "code",
   "execution_count": 7,
   "metadata": {
    "collapsed": false
   },
   "outputs": [
    {
     "name": "stdout",
     "output_type": "stream",
     "text": [
      "\f",
      "\n"
     ]
    }
   ],
   "source": [
    "fig = plt.figure(figsize=(16,8)) # the figure \n",
    "ax1 = fig.add_subplot(121) # figure with two axes\n",
    "ax2 = fig.add_subplot(122)\n",
    "\n",
    "## 1.2. histogram\n",
    "ax1.hist(mat[:,0], bins=20) # gene expression values in wt1\n",
    "ax2.hist(mat[:,0], bins=20, log=True) # gene expression values in wt1\n",
    "plt.show()"
   ]
  },
  {
   "cell_type": "code",
   "execution_count": 8,
   "metadata": {
    "collapsed": false
   },
   "outputs": [
    {
     "name": "stdout",
     "output_type": "stream",
     "text": [
      "\f",
      "\n"
     ]
    }
   ],
   "source": [
    "fig = plt.figure(figsize=(16,8)) # the figure \n",
    "ax1 = fig.add_subplot(121) # figure with two axes\n",
    "ax2 = fig.add_subplot(122)\n",
    "\n",
    "## 1.3. bar plot\n",
    "\n",
    "gene = 'TRP53' # a gene we want to plot\n",
    "idx = genes.index(gene)\n",
    "\n",
    "positions = np.arange(4) # positions of the bars [0,1,2,3]\n",
    "width = 0.5 # width of the bars\n",
    "\n",
    "ax1.bar(positions, mat[idx], width)\n",
    "ax1.set_xticks(positions+ 0.5 * width)\n",
    "ax1.set_xticklabels(samples)\n",
    "ax1.set_ylabel('Expression of ' + gene, fontsize=16)\n",
    "\n",
    "plt.show()"
   ]
  },
  {
   "cell_type": "code",
   "execution_count": 9,
   "metadata": {
    "collapsed": false
   },
   "outputs": [
    {
     "name": "stdout",
     "output_type": "stream",
     "text": [
      "\f",
      "\n"
     ]
    }
   ],
   "source": [
    "### 2. Introducing Seaborn\n",
    "import seaborn as sns\n",
    "\n",
    "## 2.0. distplot, fancier histogram\n",
    "fig = plt.figure(figsize=(16,8)) # the figure \n",
    "ax1 = fig.add_subplot(121) # figure with two axes\n",
    "ax2 = fig.add_subplot(122)\n",
    "\n",
    "sns.distplot(mat[:,0], ax=ax1)\n",
    "sns.distplot(mat[:,1], rug=True, hist=False, ax=ax2)\n",
    "plt.show()\n"
   ]
  },
  {
   "cell_type": "code",
   "execution_count": null,
   "metadata": {
    "collapsed": false
   },
   "outputs": [],
   "source": [
    "fig = plt.figure(figsize=(16,8)) # the figure \n",
    "ax1 = fig.add_subplot(121) # figure with two axes\n",
    "ax2 = fig.add_subplot(122)\n",
    "\n",
    "sns.boxplot(mat, names=samples, ax=ax1)\n",
    "sns.violinplot(mat, names=samples, ax=ax2)\n",
    "plt.show()"
   ]
  },
  {
   "cell_type": "code",
   "execution_count": 10,
   "metadata": {
    "collapsed": false
   },
   "outputs": [
    {
     "name": "stdout",
     "output_type": "stream",
     "text": [
      "\f",
      "\n"
     ]
    }
   ],
   "source": [
    "## 2.2. jointplot\n",
    "## Docs: http://stanford.edu/~mwaskom/software/seaborn/generated/seaborn.jointplot.html\n",
    "sns.jointplot(mat[:,0], mat[:,2] , kind=\"kde\")\n",
    "plt.show()\n"
   ]
  },
  {
   "cell_type": "code",
   "execution_count": null,
   "metadata": {
    "collapsed": true
   },
   "outputs": [],
   "source": [
    "## 2.3 Hierarchical clustering plot\n",
    "## Docs: http://stanford.edu/~mwaskom/software/seaborn/generated/seaborn.clustermap.html\n",
    "\n",
    "sns.clustermap(mat[0:30], yticklabels=genes[0:30], xticklabels=samples,\n",
    "\tz_score=0, # to ensure that each gene (row) has mean of 0 and variance of 1 across samples\n",
    "\tmethod='average', # linkage function\n",
    "\tmetric='euclidean' # distance function\n",
    "\t)\n",
    "plt.show()\n"
   ]
  },
  {
   "cell_type": "code",
   "execution_count": null,
   "metadata": {
    "collapsed": false
   },
   "outputs": [
    {
     "name": "stdout",
     "output_type": "stream",
     "text": [
      "\n",
      "Note: if you're in the IPython notebook, mpld3.show() is not the best command\n",
      "      to use. Consider using mpld3.display(), or mpld3.enable_notebook().\n",
      "      See more information at http://mpld3.github.io/quickstart.html.\n",
      "\n",
      "You must interrupt the kernel to end this command\n",
      "\n",
      "Serving to http://127.0.0.1:8889/    [Ctrl-C to exit]\n"
     ]
    },
    {
     "name": "stderr",
     "output_type": "stream",
     "text": [
      "127.0.0.1 - - [15/Mar/2015 15:48:20] \"GET / HTTP/1.1\" 200 -\n",
      "127.0.0.1 - - [15/Mar/2015 15:48:31] \"GET /d3.js HTTP/1.1\" 200 -\n"
     ]
    }
   ],
   "source": [
    "### 3. Introducing mpld3\n",
    "import mpld3\n",
    "\n",
    "fig = plt.figure(figsize=(8,8)) # the figure\n",
    "ax = fig.add_subplot(111) # the axes on the figure\n",
    "\n",
    "## 3.1. scatter plot with tooltip\n",
    "scatter = ax.scatter(mat[0:50,0], mat[0:50,3],alpha=0.5) # scatter plot of the first 50 genes in wt1 and het1 \n",
    "labels = genes[0:50] # labels of the first 50 genes\n",
    "\n",
    "tooltip = mpld3.plugins.PointLabelTooltip(scatter, labels=labels) # add tooltip\n",
    "mpld3.plugins.connect(fig, tooltip)\n",
    "\n",
    "ax.set_xlabel(samples[0], fontsize=16)\n",
    "ax.set_ylabel(samples[2], fontsize=16)\n",
    "\n",
    "mpld3.show()\n"
   ]
  }
 ],
 "metadata": {
  "kernelspec": {
   "display_name": "Python 2",
   "language": "python",
   "name": "python2"
  },
  "language_info": {
   "codemirror_mode": {
    "name": "ipython",
    "version": 2
   },
   "file_extension": ".py",
   "mimetype": "text/x-python",
   "name": "python",
   "nbconvert_exporter": "python",
   "pygments_lexer": "ipython2",
   "version": "2.7.6"
  }
 },
 "nbformat": 4,
 "nbformat_minor": 0
}
